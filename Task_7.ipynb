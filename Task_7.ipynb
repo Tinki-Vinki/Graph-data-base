{
 "cells": [
  {
   "cell_type": "code",
   "execution_count": 1,
   "metadata": {},
   "outputs": [],
   "source": [
    "import pandas as pd\n",
    "from neo4j import GraphDatabase\n",
    "import json\n",
    "import random\n",
    "import requests\n",
    "import base64\n",
    "\n",
    "from nebula3.gclient.net import ConnectionPool\n",
    "from nebula3.Config import Config"
   ]
  },
  {
   "attachments": {},
   "cell_type": "markdown",
   "metadata": {},
   "source": [
    "# Некоторое описание исходных данных"
   ]
  },
  {
   "cell_type": "code",
   "execution_count": 2,
   "metadata": {},
   "outputs": [
    {
     "data": {
      "text/html": [
       "<div>\n",
       "<style scoped>\n",
       "    .dataframe tbody tr th:only-of-type {\n",
       "        vertical-align: middle;\n",
       "    }\n",
       "\n",
       "    .dataframe tbody tr th {\n",
       "        vertical-align: top;\n",
       "    }\n",
       "\n",
       "    .dataframe thead th {\n",
       "        text-align: right;\n",
       "    }\n",
       "</style>\n",
       "<table border=\"1\" class=\"dataframe\">\n",
       "  <thead>\n",
       "    <tr style=\"text-align: right;\">\n",
       "      <th></th>\n",
       "      <th>id</th>\n",
       "      <th>Person_1</th>\n",
       "      <th>Person_2</th>\n",
       "    </tr>\n",
       "  </thead>\n",
       "  <tbody>\n",
       "    <tr>\n",
       "      <th>0</th>\n",
       "      <td>189</td>\n",
       "      <td>Галчевская Карина Владимировна</td>\n",
       "      <td>Белоновская Анастасия Семеновна</td>\n",
       "    </tr>\n",
       "    <tr>\n",
       "      <th>1</th>\n",
       "      <td>206</td>\n",
       "      <td>Офицеров Олег Романович</td>\n",
       "      <td>Сапожник Борис Валерьевич</td>\n",
       "    </tr>\n",
       "    <tr>\n",
       "      <th>2</th>\n",
       "      <td>445</td>\n",
       "      <td>Жандарова Лариса Германовна</td>\n",
       "      <td>Чемодуров Дамир Русланович</td>\n",
       "    </tr>\n",
       "    <tr>\n",
       "      <th>3</th>\n",
       "      <td>503</td>\n",
       "      <td>Масимова Яна Дамировна</td>\n",
       "      <td>Мингажетдинов Рамиль Семенович</td>\n",
       "    </tr>\n",
       "    <tr>\n",
       "      <th>4</th>\n",
       "      <td>571</td>\n",
       "      <td>Мухтарова Алена Яковлевна</td>\n",
       "      <td>Щербатенко Ольга Робертовна</td>\n",
       "    </tr>\n",
       "  </tbody>\n",
       "</table>\n",
       "</div>"
      ],
      "text/plain": [
       "    id                        Person_1                         Person_2\n",
       "0  189  Галчевская Карина Владимировна  Белоновская Анастасия Семеновна\n",
       "1  206         Офицеров Олег Романович        Сапожник Борис Валерьевич\n",
       "2  445     Жандарова Лариса Германовна       Чемодуров Дамир Русланович\n",
       "3  503          Масимова Яна Дамировна   Мингажетдинов Рамиль Семенович\n",
       "4  571       Мухтарова Алена Яковлевна      Щербатенко Ольга Робертовна"
      ]
     },
     "execution_count": 2,
     "metadata": {},
     "output_type": "execute_result"
    }
   ],
   "source": [
    "df = pd.read_csv('data_test.csv', delimiter=';')\n",
    "df.rename(columns = dict(zip(df.columns, ['id', 'Person_1', 'Person_2'])), inplace=True)\n",
    "df.head()"
   ]
  },
  {
   "cell_type": "code",
   "execution_count": 3,
   "metadata": {},
   "outputs": [
    {
     "data": {
      "text/plain": [
       "0"
      ]
     },
     "execution_count": 3,
     "metadata": {},
     "output_type": "execute_result"
    }
   ],
   "source": [
    "#проверка на наличие дубликатов\n",
    "df.duplicated().sum()"
   ]
  },
  {
   "cell_type": "code",
   "execution_count": 4,
   "metadata": {},
   "outputs": [
    {
     "data": {
      "text/plain": [
       "id          0\n",
       "Person_1    0\n",
       "Person_2    0\n",
       "dtype: int64"
      ]
     },
     "execution_count": 4,
     "metadata": {},
     "output_type": "execute_result"
    }
   ],
   "source": [
    "#Проверка на наличие пропусков\n",
    "df.isna().sum()"
   ]
  },
  {
   "cell_type": "code",
   "execution_count": 6,
   "metadata": {},
   "outputs": [
    {
     "name": "stdout",
     "output_type": "stream",
     "text": [
      "Количествов отношений = 5000\n",
      "Количество узлов = 9899\n"
     ]
    }
   ],
   "source": [
    "# Количественные характеристики будущей базы данных\n",
    "\n",
    "print(f'Количествов отношений = {df.shape[0]}')\n",
    "fio_list = set(df.Person_1.to_list()+ df.Person_2.to_list()) # Множество ФИО. Будет использоваться в запросе далее.\n",
    "print(f'Количество узлов = {len(fio_list)}')"
   ]
  },
  {
   "attachments": {},
   "cell_type": "markdown",
   "metadata": {},
   "source": [
    "# Работа с neo4j"
   ]
  },
  {
   "cell_type": "code",
   "execution_count": 5,
   "metadata": {},
   "outputs": [],
   "source": [
    "uri, username, password, db = 'neo4j://localhost:7687', 'neo4j', '********', 'neo4j'"
   ]
  },
  {
   "cell_type": "code",
   "execution_count": 11,
   "metadata": {},
   "outputs": [],
   "source": [
    "#Заполнение базы данных\n",
    "\n",
    "def create_event(tx, event): #функция транзакции создания события\n",
    "    tx.run(\"\"\"MERGE (p1:Person {name: $event.Person_1})\n",
    "              MERGE (p2:Person {name: $event.Person_2})\n",
    "              MERGE (p1)-[:RELATION {id: $event.id}]-(p2)\n",
    "           \"\"\", event = event\n",
    "    )\n",
    "\n",
    "with GraphDatabase.driver(uri, auth = (username, password)) as driver:\n",
    "    with driver.session(database=db) as session:\n",
    "\n",
    "        for row in range(len(df)):\n",
    "            event = df.iloc[row].to_dict()\n",
    "            session.execute_write(create_event, event)"
   ]
  },
  {
   "cell_type": "code",
   "execution_count": 144,
   "metadata": {},
   "outputs": [
    {
     "name": "stdout",
     "output_type": "stream",
     "text": [
      "ФИО: Обелова Кристина Ильдаровна\n",
      "\n",
      "Формат словаря\n",
      "{'person_1': 'Обелова Кристина Ильдаровна', 'id': 791076, 'person_2': 'Божок Виталий Яковлев'}\n",
      "\n",
      "Формат JSON\n"
     ]
    },
    {
     "data": {
      "text/plain": [
       "['{\"person_1\": \"\\\\u041e\\\\u0431\\\\u0435\\\\u043b\\\\u043e\\\\u0432\\\\u0430 \\\\u041a\\\\u0440\\\\u0438\\\\u0441\\\\u0442\\\\u0438\\\\u043d\\\\u0430 \\\\u0418\\\\u043b\\\\u044c\\\\u0434\\\\u0430\\\\u0440\\\\u043e\\\\u0432\\\\u043d\\\\u0430\", \"id\": 791076, \"person_2\": \"\\\\u0411\\\\u043e\\\\u0436\\\\u043e\\\\u043a \\\\u0412\\\\u0438\\\\u0442\\\\u0430\\\\u043b\\\\u0438\\\\u0439 \\\\u042f\\\\u043a\\\\u043e\\\\u0432\\\\u043b\\\\u0435\\\\u0432\"}']"
      ]
     },
     "execution_count": 144,
     "metadata": {},
     "output_type": "execute_result"
    }
   ],
   "source": [
    "# Запросы к базе данных\n",
    "random.seed(45)\n",
    "fio = random.choice(list(fio_list))\n",
    "print(f'ФИО: {fio}')\n",
    "\n",
    "d = {\"statements\": [{\"statement\": \"MATCH ans = ({name: $props.name})--() RETURN ans\", \n",
    "                     \"parameters\": {\"props\": {\"name\": fio}},\n",
    "                    }]}\n",
    "\n",
    "url = \"http://localhost:7474/db/neo4j/tx/commit\"\n",
    "\n",
    "headers = {'Accept': 'application/json',\n",
    "           'Content-Type': 'application/json',\n",
    "           'Authorization': 'Basic ' + base64.b64encode(f'{username}:{password}'.encode('utf-8')).decode()\n",
    "           }\n",
    "\n",
    "r =requests.post(url, data=json.dumps(d), headers=headers)\n",
    "\n",
    "result = []\n",
    "for event in json.loads(r.text)['results'][0]['data'][0]['row']:\n",
    "    _a = dict(zip(['person_1', 'id', 'person_2'], (list(k.values())[0] for k in event)))\n",
    "    result.append(json.dumps(_a))\n",
    "result"
   ]
  },
  {
   "attachments": {},
   "cell_type": "markdown",
   "metadata": {},
   "source": [
    "# Работа с NebulaGraph"
   ]
  },
  {
   "cell_type": "code",
   "execution_count": null,
   "metadata": {},
   "outputs": [],
   "source": [
    "config = Config()\n",
    "config.max_connection_pool_size = 10\n",
    "keys_list = {j:f'p_{i}' for i,j in enumerate(fio_list,1)} #id номера персоналей для формирования vid"
   ]
  },
  {
   "cell_type": "code",
   "execution_count": 138,
   "metadata": {},
   "outputs": [],
   "source": [
    "#Загрузка данных в БД\n",
    "connection_pool = ConnectionPool()\n",
    "ok = connection_pool.init([('127.0.0.1', 9669)], config)\n",
    "\n",
    "with connection_pool.session_context('root', '********') as session:\n",
    "    \n",
    "    session.execute('''CREATE SPACE IF NOT EXISTS task_7(partition_num=15, replica_factor=1, vid_type=FIXED_STRING(32));\n",
    "                       USE task_7;\n",
    "                       CREATE TAG IF NOT EXISTS  Person(name string);\n",
    "                       CREATE EDGE IF NOT EXISTS event(id int);''')\n",
    "    \n",
    "    for row in range(len(df)):\n",
    "        p1, p2, w = df.loc[row, 'Person_1'], df.loc[row,'Person_2'], df.loc[row, 'id']\n",
    "        p1_vid, p2_vid = keys_list[p1], keys_list[p2]\n",
    "        session.execute(f'''INSERT VERTEX IF NOT EXISTS Person(name) VALUES \"{p1_vid}\":(\"{p1}\"), \"{p2_vid}\":(\"{p2}\");\n",
    "                            INSERT EDGE IF NOT EXISTS event(id) VALUES \"{p1_vid}\"->\"{p2_vid}\":({w});''')\n",
    "\n",
    "connection_pool.close()"
   ]
  },
  {
   "cell_type": "code",
   "execution_count": 206,
   "metadata": {},
   "outputs": [
    {
     "data": {
      "text/plain": [
       "['{\"person_1\": \"\\\\u041a\\\\u043e\\\\u043d\\\\u0434\\\\u0440\\\\u0430\\\\u0442\\\\u044c\\\\u0435\\\\u0432 \\\\u0411\\\\u043e\\\\u0440\\\\u0438\\\\u0441 \\\\u0413\\\\u0435\\\\u0440\\\\u043c\\\\u0430\\\\u043d\\\\u043e\\\\u0432\\\\u0438\\\\u0447\", \"id\": 87253, \"person_2\": \"\\\\u041c\\\\u0435\\\\u0434\\\\u0432\\\\u0435\\\\u0434\\\\u0435\\\\u0432\\\\u0430 \\\\u0414\\\\u0430\\\\u0440\\\\u044c\\\\u044f \\\\u0410\\\\u043b\\\\u0435\\\\u043a\\\\u0441\\\\u0435\\\\u0435\\\\u0432\\\\u043d\\\\u0430\"}',\n",
       " '{\"person_1\": \"\\\\u041f\\\\u043e\\\\u043c\\\\u044b\\\\u043a\\\\u0430\\\\u043b\\\\u043e\\\\u0432\\\\u0430 \\\\u0422\\\\u0430\\\\u043c\\\\u0430\\\\u0440\\\\u0430 \\\\u0424\\\\u0435\\\\u0434\\\\u043e\\\\u0440\\\\u043e\\\\u0432\\\\u043d\\\\u0430\", \"id\": 196243, \"person_2\": \"\\\\u041c\\\\u0435\\\\u0434\\\\u0432\\\\u0435\\\\u0434\\\\u0435\\\\u0432\\\\u0430 \\\\u0414\\\\u0430\\\\u0440\\\\u044c\\\\u044f \\\\u0410\\\\u043b\\\\u0435\\\\u043a\\\\u0441\\\\u0435\\\\u0435\\\\u0432\\\\u043d\\\\u0430\"}',\n",
       " '{\"person_1\": \"\\\\u041f\\\\u0447\\\\u0435\\\\u043b\\\\u0438\\\\u043d\\\\u0446\\\\u0435\\\\u0432 \\\\u0410\\\\u0440\\\\u0442\\\\u0443\\\\u0440 \\\\u0413\\\\u043b\\\\u0435\\\\u0431\\\\u043e\\\\u0432\\\\u0438\\\\u0447\", \"id\": 580478, \"person_2\": \"\\\\u041c\\\\u0435\\\\u0434\\\\u0432\\\\u0435\\\\u0434\\\\u0435\\\\u0432\\\\u0430 \\\\u0414\\\\u0430\\\\u0440\\\\u044c\\\\u044f \\\\u0410\\\\u043b\\\\u0435\\\\u043a\\\\u0441\\\\u0435\\\\u0435\\\\u0432\\\\u043d\\\\u0430\"}',\n",
       " '{\"person_1\": \"\\\\u0414\\\\u0443\\\\u0431\\\\u0440\\\\u043e\\\\u0432\\\\u0430 \\\\u0410\\\\u043d\\\\u0436\\\\u0435\\\\u043b\\\\u0438\\\\u043a\\\\u0430 \\\\u0413\\\\u0440\\\\u0438\\\\u0433\\\\u043e\\\\u0440\\\\u044c\\\\u0435\\\\u0432\\\\u043d\\\\u0430\", \"id\": 327044, \"person_2\": \"\\\\u041c\\\\u0435\\\\u0434\\\\u0432\\\\u0435\\\\u0434\\\\u0435\\\\u0432\\\\u0430 \\\\u0414\\\\u0430\\\\u0440\\\\u044c\\\\u044f \\\\u0410\\\\u043b\\\\u0435\\\\u043a\\\\u0441\\\\u0435\\\\u0435\\\\u0432\\\\u043d\\\\u0430\"}',\n",
       " '{\"person_1\": \"\\\\u0411\\\\u0435\\\\u0437\\\\u0433\\\\u0430\\\\u0447\\\\u0438\\\\u0439 \\\\u0414\\\\u0435\\\\u043d\\\\u0438\\\\u0441 \\\\u0415\\\\u0444\\\\u0438\\\\u043c\\\\u043e\\\\u0432\\\\u0438\\\\u0447\", \"id\": 109281, \"person_2\": \"\\\\u041c\\\\u0435\\\\u0434\\\\u0432\\\\u0435\\\\u0434\\\\u0435\\\\u0432\\\\u0430 \\\\u0414\\\\u0430\\\\u0440\\\\u044c\\\\u044f \\\\u0410\\\\u043b\\\\u0435\\\\u043a\\\\u0441\\\\u0435\\\\u0435\\\\u0432\\\\u043d\\\\u0430\"}',\n",
       " '{\"person_1\": \"\\\\u0413\\\\u043b\\\\u0430\\\\u0437\\\\u043a\\\\u043e\\\\u0432 \\\\u0410\\\\u0440\\\\u0442\\\\u0443\\\\u0440 \\\\u041f\\\\u0435\\\\u0442\\\\u0440\\\\u043e\\\\u0432\\\\u0438\\\\u0447\", \"id\": 173973, \"person_2\": \"\\\\u041c\\\\u0435\\\\u0434\\\\u0432\\\\u0435\\\\u0434\\\\u0435\\\\u0432\\\\u0430 \\\\u0414\\\\u0430\\\\u0440\\\\u044c\\\\u044f \\\\u0410\\\\u043b\\\\u0435\\\\u043a\\\\u0441\\\\u0435\\\\u0435\\\\u0432\\\\u043d\\\\u0430\"}']"
      ]
     },
     "execution_count": 206,
     "metadata": {},
     "output_type": "execute_result"
    }
   ],
   "source": [
    "#Запрос данных из БД\n",
    "connection_pool = ConnectionPool()\n",
    "ok = connection_pool.init([('127.0.0.1', 9669)], config)\n",
    "\n",
    "with connection_pool.session_context('root', '96ZRyX36') as session:\n",
    "    \n",
    "    session.execute('''USE task_7;''')\n",
    "    r = session.execute('''LOOKUP ON Person\n",
    "                             WHERE Person.name==\"Медведева Дарья Алексеевна\" \n",
    "                             YIELD id(vertex) AS p | GO FROM $-.p OVER event BIDIRECT\n",
    "                             YIELD properties($$).name AS person_1, properties(edge).id AS id, properties($^).name AS person_2''')\n",
    "    \n",
    "connection_pool.close()\n",
    "\n",
    "result = []\n",
    "for row in range(r.row_size()):\n",
    "    _dict = dict.fromkeys(r.keys(), None)\n",
    "    for k in r.keys():\n",
    "        if k in ['id']:\n",
    "            _dict[k] = r.column_values(k)[row].as_int()\n",
    "        else:\n",
    "            _dict[k] = r.column_values(k)[row].as_string()\n",
    "    result.append(json.dumps(_dict))\n",
    "\n",
    "result"
   ]
  }
 ],
 "metadata": {
  "kernelspec": {
   "display_name": "Python 3",
   "language": "python",
   "name": "python3"
  },
  "language_info": {
   "codemirror_mode": {
    "name": "ipython",
    "version": 3
   },
   "file_extension": ".py",
   "mimetype": "text/x-python",
   "name": "python",
   "nbconvert_exporter": "python",
   "pygments_lexer": "ipython3",
   "version": "3.9.7"
  },
  "orig_nbformat": 4,
  "vscode": {
   "interpreter": {
    "hash": "04c29a3ea25350f522fbfc26aa9356312b41ef073a34ae03feb09a1aa46e2ef8"
   }
  }
 },
 "nbformat": 4,
 "nbformat_minor": 2
}
